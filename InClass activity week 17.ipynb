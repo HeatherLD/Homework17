{
 "cells": [
  {
   "cell_type": "markdown",
   "id": "62194455",
   "metadata": {},
   "source": [
    "## In-Class Group Activity, week 17, Heather Leighton-Dick"
   ]
  },
  {
   "cell_type": "markdown",
   "id": "4f08fe07",
   "metadata": {},
   "source": [
    "### 1. Write simple (straightforward) definitions for the following parameters for RandomForestClassifier (https://scikit-learn.org/stable/modules/generated/sklearn.ensemble.RandomForestClassifier.html) and indicate how they correlate with the precision and recall for the basic diabetes model we built in class. You will need to rerun the model multiple times to do so."
   ]
  },
  {
   "cell_type": "markdown",
   "id": "c7d4d053",
   "metadata": {},
   "source": [
    " \n",
    "|parameter       |value|Prec|Rec |\n",
    "|----------------|-----|----|----|\n",
    "|n_estimators    |  200|   +|   +|\n",
    "|max_depth       |    8|   +|   +|\n",
    "|min_sample_split|   12|   +|    |\n",
    "|min_samples_leaf|    4|null|   +|\n",
    "|min_weight_fr   |  0.1|null|null|\n",
    "|max_leaf_node   |  150|   +|   +|\n",
    "|min_impurit_decr|0.001|   -|   -|\n"
   ]
  },
  {
   "cell_type": "markdown",
   "id": "84bfceec",
   "metadata": {},
   "source": [
    "estimators: the number of trees in the forest; corr with precision affected some, corr w/ recall affected some but less; 200 is best\n",
    "\n",
    "max_depth: the number of nodes; pos corr w/ precision affected some, pos corr w/ recall affected less, fewer was better for both (10 is best, 8 is better when it is the only defined parameter)\n",
    "\n",
    "min_samples_split: the minimum number of samples a leaf must have to exist; otherwise, the node will not split; integers for a number of samples, float for a fraction of the original dataset; 12 is best\n",
    "\n",
    "min_samples_leaf: the minimum number of samples required for a leaf to be created; 4 is best; precision is not impacted by much, but recall is impacted, pos corr\n",
    "\n",
    "min_weight_fraction_leaf: if samples are equally weighted, the default is 0; if each leaf is weighted differently, that weight must be larger than the min_weight_fraction_leaf value; there doesn't seem to be a correlation; 0.0, 0.1, 0.2 are similar results; 0.5 is no good (b/c categorical variable?)\n",
    "\n",
    "max_leaf_nodes: the maximum number of leaf nodes (ending nodes); range 100-150 gives best recall and precision; positive correlation\n",
    "\n",
    "min_impurity_decrease: impurity measures how badly a model fits the observations at a particular point in the dataset; if a node split decreases a model's impurity by the value of the min_impurity_decrease, then the node will be split"
   ]
  },
  {
   "cell_type": "code",
   "execution_count": 65,
   "id": "844a00aa",
   "metadata": {},
   "outputs": [
    {
     "name": "stdout",
     "output_type": "stream",
     "text": [
      "              precision    recall  f1-score   support\n",
      "\n",
      "           0       0.78      0.87      0.83       150\n",
      "           1       0.70      0.56      0.62        81\n",
      "\n",
      "    accuracy                           0.76       231\n",
      "   macro avg       0.74      0.71      0.72       231\n",
      "weighted avg       0.76      0.76      0.75       231\n",
      "\n",
      "[0.08902592 0.34604069 0.06267369 0.05287335 0.06480167 0.15799561\n",
      " 0.09403122 0.13255785] Index(['Pregnancies', 'Glucose', 'BloodPressure', 'SkinThickness', 'Insulin',\n",
      "       'BMI', 'DiabetesPedigreeFunction', 'Age'],\n",
      "      dtype='object')\n"
     ]
    }
   ],
   "source": [
    "import pandas as pd\n",
    "from sklearn import tree\n",
    "from sklearn.metrics import confusion_matrix, classification_report, plot_confusion_matrix\n",
    "\n",
    "diabetes_df = pd.read_csv(\"../Homework14/diabetes.csv\")\n",
    "#diabetes_df.head()\n",
    "\n",
    "from sklearn.model_selection import train_test_split\n",
    "from sklearn.preprocessing import StandardScaler\n",
    "\n",
    "X = diabetes_df.drop('Outcome', axis=1)\n",
    "y = diabetes_df['Outcome']\n",
    "\n",
    "# Split into training and test set\n",
    "X_train, X_test, y_train, y_test = train_test_split(X, y, test_size = 0.3, random_state=42, stratify=y)\n",
    "\n",
    "#Standardize\n",
    "sc= StandardScaler()\n",
    "X_train=sc.fit_transform(X_train)\n",
    "X_test=sc.fit_transform(X_test)\n",
    "\n",
    "from sklearn.ensemble import RandomForestClassifier\n",
    "#estimator = model\n",
    "rf = RandomForestClassifier(bootstrap=True, random_state=42, max_depth=12, min_samples_split=12, min_impurity_decrease=0.001, n_estimators=200, max_leaf_nodes=150, min_samples_leaf=4)\n",
    "\n",
    "rf = rf.fit(X_train, y_train)\n",
    "rf.score(X_test, y_test)\n",
    "\n",
    "predictions = rf.predict(X_test)\n",
    "print(classification_report(y_test,predictions))\n",
    "\n",
    "print(rf.feature_importances_, X.columns)\n",
    "\n",
    "#pull out a single tree\n",
    "tree_10 = rf.estimators_[9]"
   ]
  },
  {
   "cell_type": "markdown",
   "id": "2a685d91",
   "metadata": {},
   "source": [
    "### 2. How does setting bootstrap=False influence the model performance? Note: the default is bootstrap=True. Explain why your results might be so."
   ]
  },
  {
   "cell_type": "markdown",
   "id": "17688363",
   "metadata": {},
   "source": [
    "Setting bootstrap=False brings each parameter down a few hundredths in performance;  this might be because random resampling with replacement helps build a larger, more robust dataset."
   ]
  },
  {
   "cell_type": "code",
   "execution_count": null,
   "id": "37fe6982",
   "metadata": {},
   "outputs": [],
   "source": []
  }
 ],
 "metadata": {
  "kernelspec": {
   "display_name": "Python 3 (ipykernel)",
   "language": "python",
   "name": "python3"
  },
  "language_info": {
   "codemirror_mode": {
    "name": "ipython",
    "version": 3
   },
   "file_extension": ".py",
   "mimetype": "text/x-python",
   "name": "python",
   "nbconvert_exporter": "python",
   "pygments_lexer": "ipython3",
   "version": "3.9.7"
  }
 },
 "nbformat": 4,
 "nbformat_minor": 5
}
